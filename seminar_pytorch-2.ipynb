{
  "cells": [
    {
      "cell_type": "markdown",
      "metadata": {
        "id": "kr_aKWMGEmh-"
      },
      "source": [
        "# Approximate q-learning\n",
        "\n",
        "In this notebook you will teach a __PyTorch__ neural network to do Q-learning."
      ]
    },
    {
      "cell_type": "code",
      "execution_count": 1,
      "metadata": {
        "id": "oaMu65ONEmh_",
        "colab": {
          "base_uri": "https://localhost:8080/"
        },
        "outputId": "7c0640de-e123-43a3-dd3e-dc9e81fa7bfe"
      },
      "outputs": [
        {
          "output_type": "stream",
          "name": "stdout",
          "text": [
            "Selecting previously unselected package libfontenc1:amd64.\n",
            "(Reading database ... 120874 files and directories currently installed.)\n",
            "Preparing to unpack .../0-libfontenc1_1%3a1.1.4-1build3_amd64.deb ...\n",
            "Unpacking libfontenc1:amd64 (1:1.1.4-1build3) ...\n",
            "Selecting previously unselected package libxfont2:amd64.\n",
            "Preparing to unpack .../1-libxfont2_1%3a2.0.5-1build1_amd64.deb ...\n",
            "Unpacking libxfont2:amd64 (1:2.0.5-1build1) ...\n",
            "Selecting previously unselected package libxkbfile1:amd64.\n",
            "Preparing to unpack .../2-libxkbfile1_1%3a1.1.0-1build3_amd64.deb ...\n",
            "Unpacking libxkbfile1:amd64 (1:1.1.0-1build3) ...\n",
            "Selecting previously unselected package x11-xkb-utils.\n",
            "Preparing to unpack .../3-x11-xkb-utils_7.7+5build4_amd64.deb ...\n",
            "Unpacking x11-xkb-utils (7.7+5build4) ...\n",
            "Selecting previously unselected package xfonts-encodings.\n",
            "Preparing to unpack .../4-xfonts-encodings_1%3a1.0.5-0ubuntu2_all.deb ...\n",
            "Unpacking xfonts-encodings (1:1.0.5-0ubuntu2) ...\n",
            "Selecting previously unselected package xfonts-utils.\n",
            "Preparing to unpack .../5-xfonts-utils_1%3a7.7+6build2_amd64.deb ...\n",
            "Unpacking xfonts-utils (1:7.7+6build2) ...\n",
            "Selecting previously unselected package xfonts-base.\n",
            "Preparing to unpack .../6-xfonts-base_1%3a1.0.5_all.deb ...\n",
            "Unpacking xfonts-base (1:1.0.5) ...\n",
            "Selecting previously unselected package xserver-common.\n",
            "Preparing to unpack .../7-xserver-common_2%3a21.1.4-2ubuntu1.7~22.04.2_all.deb ...\n",
            "Unpacking xserver-common (2:21.1.4-2ubuntu1.7~22.04.2) ...\n",
            "Selecting previously unselected package xvfb.\n",
            "Preparing to unpack .../8-xvfb_2%3a21.1.4-2ubuntu1.7~22.04.2_amd64.deb ...\n",
            "Unpacking xvfb (2:21.1.4-2ubuntu1.7~22.04.2) ...\n",
            "Setting up libfontenc1:amd64 (1:1.1.4-1build3) ...\n",
            "Setting up xfonts-encodings (1:1.0.5-0ubuntu2) ...\n",
            "Setting up libxkbfile1:amd64 (1:1.1.0-1build3) ...\n",
            "Setting up libxfont2:amd64 (1:2.0.5-1build1) ...\n",
            "Setting up x11-xkb-utils (7.7+5build4) ...\n",
            "Setting up xfonts-utils (1:7.7+6build2) ...\n",
            "Setting up xfonts-base (1:1.0.5) ...\n",
            "Setting up xserver-common (2:21.1.4-2ubuntu1.7~22.04.2) ...\n",
            "Setting up xvfb (2:21.1.4-2ubuntu1.7~22.04.2) ...\n",
            "Processing triggers for man-db (2.10.2-1) ...\n",
            "Processing triggers for fontconfig (2.13.1-4.2ubuntu5) ...\n",
            "Processing triggers for libc-bin (2.35-0ubuntu3.1) ...\n",
            "/sbin/ldconfig.real: /usr/local/lib/libtbbbind.so.3 is not a symbolic link\n",
            "\n",
            "/sbin/ldconfig.real: /usr/local/lib/libtbbbind_2_5.so.3 is not a symbolic link\n",
            "\n",
            "/sbin/ldconfig.real: /usr/local/lib/libtbbmalloc.so.2 is not a symbolic link\n",
            "\n",
            "/sbin/ldconfig.real: /usr/local/lib/libtbbmalloc_proxy.so.2 is not a symbolic link\n",
            "\n",
            "/sbin/ldconfig.real: /usr/local/lib/libtbbbind_2_0.so.3 is not a symbolic link\n",
            "\n",
            "/sbin/ldconfig.real: /usr/local/lib/libtbb.so.12 is not a symbolic link\n",
            "\n",
            "Starting virtual X frame buffer: Xvfb.\n"
          ]
        }
      ],
      "source": [
        "import sys, os\n",
        "if 'google.colab' in sys.modules and not os.path.exists('.setup_complete'):\n",
        "    !wget -q https://raw.githubusercontent.com/yandexdataschool/Practical_RL/master/setup_colab.sh -O- | bash\n",
        "    !touch .setup_complete\n",
        "\n",
        "# This code creates a virtual display to draw game images on.\n",
        "# It will have no effect if your machine has a monitor.\n",
        "if type(os.environ.get(\"DISPLAY\")) is not str or len(os.environ.get(\"DISPLAY\")) == 0:\n",
        "    !bash ../xvfb start\n",
        "    os.environ['DISPLAY'] = ':1'"
      ]
    },
    {
      "cell_type": "code",
      "execution_count": 2,
      "metadata": {
        "id": "avILCRKkEpaX",
        "colab": {
          "base_uri": "https://localhost:8080/"
        },
        "outputId": "27da04ac-cbc5-40a3-ae6a-0bea0eb520d0"
      },
      "outputs": [
        {
          "output_type": "stream",
          "name": "stdout",
          "text": [
            "Collecting gymnasium[classic_control]\n",
            "  Downloading gymnasium-0.29.1-py3-none-any.whl (953 kB)\n",
            "\u001b[?25l     \u001b[90m━━━━━━━━━━━━━━━━━━━━━━━━━━━━━━━━━━━━━━━━\u001b[0m \u001b[32m0.0/953.9 kB\u001b[0m \u001b[31m?\u001b[0m eta \u001b[36m-:--:--\u001b[0m\r\u001b[2K     \u001b[91m━━━\u001b[0m\u001b[91m╸\u001b[0m\u001b[90m━━━━━━━━━━━━━━━━━━━━━━━━━━━━━━━━━━━━\u001b[0m \u001b[32m92.2/953.9 kB\u001b[0m \u001b[31m2.8 MB/s\u001b[0m eta \u001b[36m0:00:01\u001b[0m\r\u001b[2K     \u001b[91m━━━━━━━━━━━━━━━━━━━━━━━━━━━━━━━━━━━━━━━\u001b[0m\u001b[91m╸\u001b[0m \u001b[32m952.3/953.9 kB\u001b[0m \u001b[31m14.5 MB/s\u001b[0m eta \u001b[36m0:00:01\u001b[0m\r\u001b[2K     \u001b[90m━━━━━━━━━━━━━━━━━━━━━━━━━━━━━━━━━━━━━━━━\u001b[0m \u001b[32m953.9/953.9 kB\u001b[0m \u001b[31m12.1 MB/s\u001b[0m eta \u001b[36m0:00:00\u001b[0m\n",
            "\u001b[?25hRequirement already satisfied: numpy>=1.21.0 in /usr/local/lib/python3.10/dist-packages (from gymnasium[classic_control]) (1.23.5)\n",
            "Requirement already satisfied: cloudpickle>=1.2.0 in /usr/local/lib/python3.10/dist-packages (from gymnasium[classic_control]) (2.2.1)\n",
            "Requirement already satisfied: typing-extensions>=4.3.0 in /usr/local/lib/python3.10/dist-packages (from gymnasium[classic_control]) (4.5.0)\n",
            "Collecting farama-notifications>=0.0.1 (from gymnasium[classic_control])\n",
            "  Downloading Farama_Notifications-0.0.4-py3-none-any.whl (2.5 kB)\n",
            "Requirement already satisfied: pygame>=2.1.3 in /usr/local/lib/python3.10/dist-packages (from gymnasium[classic_control]) (2.5.2)\n",
            "Installing collected packages: farama-notifications, gymnasium\n",
            "Successfully installed farama-notifications-0.0.4 gymnasium-0.29.1\n"
          ]
        }
      ],
      "source": [
        "!pip install gymnasium[classic_control]"
      ]
    },
    {
      "cell_type": "code",
      "execution_count": 3,
      "metadata": {
        "id": "K_SRk2ASEmh_"
      },
      "outputs": [],
      "source": [
        "import gymnasium as gym\n",
        "import numpy as np\n",
        "import pandas as pd\n",
        "import matplotlib.pyplot as plt\n",
        "%matplotlib inline"
      ]
    },
    {
      "cell_type": "code",
      "execution_count": 4,
      "metadata": {
        "id": "x2YvkgprEmh_",
        "colab": {
          "base_uri": "https://localhost:8080/",
          "height": 450
        },
        "outputId": "f124df12-3995-4f39-8d44-ac6af0e699b8"
      },
      "outputs": [
        {
          "output_type": "stream",
          "name": "stderr",
          "text": [
            "/usr/local/lib/python3.10/dist-packages/gymnasium/envs/registration.py:513: DeprecationWarning: \u001b[33mWARN: The environment CartPole-v0 is out of date. You should consider upgrading to version `v1`.\u001b[0m\n",
            "  logger.deprecation(\n"
          ]
        },
        {
          "output_type": "display_data",
          "data": {
            "text/plain": [
              "<Figure size 640x480 with 1 Axes>"
            ],
            "image/png": "[encoded data removed]"
          },
          "metadata": {}
        }
      ],
      "source": [
        "env = gym.make(\"CartPole-v0\", render_mode=\"rgb_array\").env\n",
        "env.reset()\n",
        "n_actions = env.action_space.n\n",
        "state_dim = env.observation_space.shape\n",
        "\n",
        "plt.imshow(env.render())\n",
        "env.close()"
      ]
    },
    {
      "cell_type": "markdown",
      "metadata": {
        "id": "sI8W19CwEmh_"
      },
      "source": [
        "# Approximate Q-learning: building the network\n",
        "\n",
        "To train a neural network policy one must have a neural network policy. Let's build it.\n",
        "\n",
        "\n",
        "Since we're working with a pre-extracted features (cart positions, angles and velocities), we don't need a complicated network yet. In fact, let's build something like this for starters:\n",
        "\n",
        "![img](https://raw.githubusercontent.com/yandexdataschool/Practical_RL/master/yet_another_week/_resource/qlearning_scheme.png)\n",
        "\n",
        "For your first run, please only use linear layers (`nn.Linear`) and activations. Stuff like batch normalization or dropout may ruin everything if used haphazardly.\n",
        "\n",
        "Also please avoid using nonlinearities like sigmoid & tanh: since agent's observations are not normalized, sigmoids might be saturated at initialization. Instead, use non-saturating nonlinearities like ReLU.\n",
        "\n",
        "Ideally you should start small with maybe 1-2 hidden layers with < 200 neurons and then increase network size if agent doesn't beat the target score."
      ]
    },
    {
      "cell_type": "code",
      "execution_count": 6,
      "metadata": {
        "id": "YdWXv8WJEmiA"
      },
      "outputs": [],
      "source": [
        "import torch\n",
        "import torch.nn as nn\n",
        "import torch.nn.functional as F"
      ]
    },
    {
      "cell_type": "code",
      "execution_count": 7,
      "metadata": {
        "id": "y2-PcaIQEmiA"
      },
      "outputs": [],
      "source": [
        "network = nn.Sequential()\n",
        "\n",
        "network.add_module('layer1', nn.Linear(state_dim[0], 64))\n",
        "network.add_module('activation1', nn.ReLU())\n",
        "network.add_module('layer2', nn.Linear(64, 128))\n",
        "network.add_module('activation2', nn.ReLU())\n",
        "network.add_module('layer3', nn.Linear(128, n_actions))\n",
        "\n",
        "# hint: use state_dim[0] as input size"
      ]
    },
    {
      "cell_type": "code",
      "execution_count": 8,
      "metadata": {
        "id": "8xuWPGriEmiA"
      },
      "outputs": [],
      "source": [
        "def get_action(state, epsilon=0):\n",
        "    \"\"\"\n",
        "    sample actions with epsilon-greedy policy\n",
        "    recap: with p = epsilon pick random action, else pick action with highest Q(s,a)\n",
        "    \"\"\"\n",
        "    state = torch.tensor(state[None], dtype=torch.float32)\n",
        "    q_values = network(state).detach().numpy()\n",
        "\n",
        "    if epsilon < np.random.uniform(0, 1):\n",
        "        chosen_action = np.argmax(q_values)\n",
        "    else:\n",
        "        chosen_action = np.random.choice(n_actions)\n",
        "\n",
        "    return int(chosen_action)"
      ]
    },
    {
      "cell_type": "code",
      "execution_count": 10,
      "metadata": {
        "id": "wroEfSRNEmiA",
        "colab": {
          "base_uri": "https://localhost:8080/"
        },
        "outputId": "bc0bbd71-6ab4-495d-df23-b06899f7d90d"
      },
      "outputs": [
        {
          "output_type": "stream",
          "name": "stdout",
          "text": [
            "e=0.0 tests passed\n",
            "e=0.1 tests passed\n",
            "e=0.5 tests passed\n",
            "e=1.0 tests passed\n"
          ]
        }
      ],
      "source": [
        "s, _ = env.reset()\n",
        "assert tuple(network(torch.tensor([s]*3, dtype=torch.float32)).size()) == (\n",
        "    3, n_actions), \"please make sure your model maps state s -> [Q(s,a0), ..., Q(s, a_last)]\"\n",
        "assert isinstance(list(network.modules(\n",
        "))[-1], nn.Linear), \"please make sure you predict q-values without nonlinearity (ignore if you know what you're doing)\"\n",
        "assert isinstance(get_action(s), int), \"get_action(s) must return int, not %s. try int(action)\" % (type(get_action(s)))\n",
        "\n",
        "# test epsilon-greedy exploration\n",
        "for eps in [0., 0.1, 0.5, 1.0]:\n",
        "    state_frequencies = np.bincount(\n",
        "        [get_action(s, epsilon=eps) for i in range(10000)], minlength=n_actions)\n",
        "    best_action = state_frequencies.argmax()\n",
        "    assert abs(state_frequencies[best_action] -\n",
        "               10000 * (1 - eps + eps / n_actions)) < 200\n",
        "    for other_action in range(n_actions):\n",
        "        if other_action != best_action:\n",
        "            assert abs(state_frequencies[other_action] -\n",
        "                       10000 * (eps / n_actions)) < 200\n",
        "    print('e=%.1f tests passed' % eps)"
      ]
    },
    {
      "cell_type": "markdown",
      "metadata": {
        "id": "f88ovLBQEmiA"
      },
      "source": [
        "### Q-learning via gradient descent\n",
        "\n",
        "We shall now train our agent's Q-function by minimizing the TD loss:\n",
        "$$ L = { 1 \\over N} \\sum_i (Q_{\\theta}(s,a) - [r(s,a) + \\gamma \\cdot max_{a'} Q_{-}(s', a')]) ^2 $$\n",
        "\n",
        "\n",
        "Where\n",
        "* $s, a, r, s'$ are current state, action, reward and next state respectively\n",
        "* $\\gamma$ is a discount factor defined two cells above.\n",
        "\n",
        "The tricky part is with  $Q_{-}(s',a')$. From an engineering standpoint, it's the same as $Q_{\\theta}$ - the output of your neural network policy. However, when doing gradient descent, __we won't propagate gradients through it__ to make training more stable (see lectures).\n",
        "\n",
        "To do so, we shall use `x.detach()` function which basically says \"consider this thing constant when doing backprop\"."
      ]
    },
    {
      "cell_type": "code",
      "execution_count": 19,
      "metadata": {
        "id": "bOIpO142EmiB"
      },
      "outputs": [],
      "source": [
        "def compute_td_loss(states, actions, rewards, next_states, is_done, gamma=0.99, check_shapes=False):\n",
        "    \"\"\" Compute td loss using torch operations only. Use the formula above. \"\"\"\n",
        "    states = torch.tensor(\n",
        "        states, dtype=torch.float32)                                  # shape: [batch_size, state_size]\n",
        "    actions = torch.tensor(actions, dtype=torch.long)                 # shape: [batch_size]\n",
        "    rewards = torch.tensor(rewards, dtype=torch.float32)              # shape: [batch_size]\n",
        "    # shape: [batch_size, state_size]\n",
        "    next_states = torch.tensor(next_states, dtype=torch.float32)\n",
        "    is_done = torch.tensor(is_done, dtype=torch.uint8)                # shape: [batch_size]\n",
        "\n",
        "    # get q-values for all actions in current states\n",
        "    predicted_qvalues = network(states)                               # shape: [batch_size, n_actions]\n",
        "\n",
        "    # select q-values for chosen actions\n",
        "    predicted_qvalues_for_actions = predicted_qvalues[                # shape: [batch_size]\n",
        "      range(states.shape[0]), actions\n",
        "    ]\n",
        "\n",
        "    # compute q-values for all actions in next states\n",
        "    predicted_next_qvalues = network(next_states)\n",
        "\n",
        "    # compute V*(next_states) using predicted next q-values\n",
        "    next_state_values = torch.max(predicted_next_qvalues, dim=1).values\n",
        "    assert next_state_values.dtype == torch.float32\n",
        "\n",
        "    # compute \"target q-values\" for loss - it's what's inside square parentheses in the above formula.\n",
        "    target_qvalues_for_actions = rewards + gamma * next_state_values\n",
        "\n",
        "    # at the last state we shall use simplified formula: Q(s,a) = r(s,a) since s' doesn't exist\n",
        "    target_qvalues_for_actions = torch.where(\n",
        "        is_done, rewards, target_qvalues_for_actions)\n",
        "\n",
        "    # mean squared error loss to minimize\n",
        "    loss = torch.mean((predicted_qvalues_for_actions -\n",
        "                       target_qvalues_for_actions.detach()) ** 2)\n",
        "\n",
        "    if check_shapes:\n",
        "        assert predicted_next_qvalues.data.dim(\n",
        "        ) == 2, \"make sure you predicted q-values for all actions in next state\"\n",
        "        assert next_state_values.data.dim(\n",
        "        ) == 1, \"make sure you computed V(s') as maximum over just the actions axis and not all axes\"\n",
        "        assert target_qvalues_for_actions.data.dim(\n",
        "        ) == 1, \"there's something wrong with target q-values, they must be a vector\"\n",
        "\n",
        "    return loss"
      ]
    },
    {
      "cell_type": "code",
      "execution_count": 20,
      "metadata": {
        "id": "lKi6AK3DEmiB",
        "colab": {
          "base_uri": "https://localhost:8080/"
        },
        "outputId": "48c5f946-2dbe-42a7-994b-7647fb3a9c4e"
      },
      "outputs": [
        {
          "output_type": "stream",
          "name": "stderr",
          "text": [
            "<ipython-input-19-d2d4f9c2e09f>:30: UserWarning: where received a uint8 condition tensor. This behavior is deprecated and will be removed in a future version of PyTorch. Use a boolean condition instead. (Triggered internally at ../aten/src/ATen/native/TensorCompare.cpp:519.)\n",
            "  target_qvalues_for_actions = torch.where(\n"
          ]
        }
      ],
      "source": [
        "# sanity checks\n",
        "s, _ = env.reset()\n",
        "a = env.action_space.sample()\n",
        "next_s, r, terminated, _, _ = env.step(a)\n",
        "loss = compute_td_loss([s], [a], [r], [next_s], [terminated], check_shapes=True)\n",
        "loss.backward()\n",
        "\n",
        "assert len(loss.size()) == 0, \"you must return scalar loss - mean over batch\"\n",
        "assert np.any(next(network.parameters()).grad.detach().numpy() !=\n",
        "              0), \"loss must be differentiable w.r.t. network weights\""
      ]
    },
    {
      "cell_type": "markdown",
      "metadata": {
        "id": "LgL6G5lFEmiB"
      },
      "source": [
        "### Playing the game"
      ]
    },
    {
      "cell_type": "code",
      "execution_count": 21,
      "metadata": {
        "id": "zsHb_fjjEmiB"
      },
      "outputs": [],
      "source": [
        "opt = torch.optim.Adam(network.parameters(), lr=1e-4)"
      ]
    },
    {
      "cell_type": "code",
      "execution_count": 22,
      "metadata": {
        "id": "nJ_-xtsjEmiB"
      },
      "outputs": [],
      "source": [
        "def generate_session(env, t_max=1000, epsilon=0, train=False):\n",
        "    \"\"\"play env with approximate q-learning agent and train it at the same time\"\"\"\n",
        "    total_reward = 0\n",
        "    s, _ = env.reset()\n",
        "\n",
        "    for t in range(t_max):\n",
        "        a = get_action(s, epsilon=epsilon)\n",
        "        next_s, r, terminated, truncated, _ = env.step(a)\n",
        "\n",
        "        if train:\n",
        "            opt.zero_grad()\n",
        "            compute_td_loss([s], [a], [r], [next_s], [terminated]).backward()\n",
        "            opt.step()\n",
        "\n",
        "        total_reward += r\n",
        "        s = next_s\n",
        "        if terminated or truncated:\n",
        "            break\n",
        "\n",
        "    return total_reward"
      ]
    },
    {
      "cell_type": "code",
      "execution_count": 23,
      "metadata": {
        "id": "40mKYuVIEmiB"
      },
      "outputs": [],
      "source": [
        "epsilon = 0.5"
      ]
    },
    {
      "cell_type": "code",
      "execution_count": 24,
      "metadata": {
        "id": "EXy8ij00EmiB",
        "colab": {
          "base_uri": "https://localhost:8080/"
        },
        "outputId": "b0da9661-37d3-4643-ff8a-7bb8a17a15ed"
      },
      "outputs": [
        {
          "output_type": "stream",
          "name": "stdout",
          "text": [
            "epoch #0\tmean reward = 14.240\tepsilon = 0.500\n",
            "epoch #1\tmean reward = 12.880\tepsilon = 0.495\n",
            "epoch #2\tmean reward = 14.510\tepsilon = 0.490\n",
            "epoch #3\tmean reward = 13.560\tepsilon = 0.485\n",
            "epoch #4\tmean reward = 15.190\tepsilon = 0.480\n",
            "epoch #5\tmean reward = 20.540\tepsilon = 0.475\n",
            "epoch #6\tmean reward = 29.640\tepsilon = 0.471\n",
            "epoch #7\tmean reward = 36.200\tepsilon = 0.466\n",
            "epoch #8\tmean reward = 45.770\tepsilon = 0.461\n",
            "epoch #9\tmean reward = 58.970\tepsilon = 0.457\n",
            "epoch #10\tmean reward = 66.660\tepsilon = 0.452\n",
            "epoch #11\tmean reward = 77.560\tepsilon = 0.448\n",
            "epoch #12\tmean reward = 101.060\tepsilon = 0.443\n",
            "epoch #13\tmean reward = 112.500\tepsilon = 0.439\n",
            "epoch #14\tmean reward = 141.080\tepsilon = 0.434\n",
            "epoch #15\tmean reward = 155.900\tepsilon = 0.430\n",
            "epoch #16\tmean reward = 155.650\tepsilon = 0.426\n",
            "epoch #17\tmean reward = 155.510\tepsilon = 0.421\n",
            "epoch #18\tmean reward = 163.670\tepsilon = 0.417\n",
            "epoch #19\tmean reward = 171.120\tepsilon = 0.413\n",
            "epoch #20\tmean reward = 187.390\tepsilon = 0.409\n",
            "epoch #21\tmean reward = 161.640\tepsilon = 0.405\n",
            "epoch #22\tmean reward = 231.360\tepsilon = 0.401\n",
            "epoch #23\tmean reward = 281.020\tepsilon = 0.397\n",
            "epoch #24\tmean reward = 336.070\tepsilon = 0.393\n",
            "You Win!\n"
          ]
        }
      ],
      "source": [
        "for i in range(1000):\n",
        "    session_rewards = [generate_session(env, epsilon=epsilon, train=True) for _ in range(100)]\n",
        "    print(\"epoch #{}\\tmean reward = {:.3f}\\tepsilon = {:.3f}\".format(i, np.mean(session_rewards), epsilon))\n",
        "\n",
        "    epsilon *= 0.99\n",
        "    assert epsilon >= 1e-4, \"Make sure epsilon is always nonzero during training\"\n",
        "\n",
        "    if np.mean(session_rewards) > 300:\n",
        "        print(\"You Win!\")\n",
        "        break"
      ]
    },
    {
      "cell_type": "markdown",
      "metadata": {
        "id": "XJPoF9XtEmiB"
      },
      "source": [
        "### How to interpret results\n",
        "\n",
        "\n",
        "Welcome to the f.. world of deep f...n reinforcement learning. Don't expect agent's reward to smoothly go up. Hope for it to go increase eventually. If it deems you worthy.\n",
        "\n",
        "Seriously though,\n",
        "* __ mean reward__ is the average reward per game. For a correct implementation it may stay low for some 10 epochs, then start growing while oscilating insanely and converges by ~50-100 steps depending on the network architecture.\n",
        "* If it never reaches target score by the end of for loop, try increasing the number of hidden neurons or look at the epsilon.\n",
        "* __ epsilon__ - agent's willingness to explore. If you see that agent's already at < 0.01 epsilon before it's is at least 200, just reset it back to 0.1 - 0.5."
      ]
    },
    {
      "cell_type": "markdown",
      "metadata": {
        "id": "lhKiN-qOEmiB"
      },
      "source": [
        "### Record videos\n",
        "\n",
        "As usual, we now use `gymnasium.wrappers.RecordVideo` to record a video of our agent playing the game. Unlike our previous attempts with state binarization, this time we expect our agent to act ~~(or fail)~~ more smoothly since there's no more binarization error at play.\n",
        "\n",
        "As you already did with tabular q-learning, we set epsilon=0 for final evaluation to prevent agent from exploring himself to death."
      ]
    },
    {
      "cell_type": "code",
      "execution_count": 25,
      "metadata": {
        "id": "2yqPkj6HEmiB",
        "colab": {
          "base_uri": "https://localhost:8080/"
        },
        "outputId": "db44a115-15fe-4e80-8f04-8d3c3680e418"
      },
      "outputs": [
        {
          "output_type": "stream",
          "name": "stderr",
          "text": [
            "/usr/local/lib/python3.10/dist-packages/gymnasium/envs/registration.py:513: DeprecationWarning: \u001b[33mWARN: The environment CartPole-v0 is out of date. You should consider upgrading to version `v1`.\u001b[0m\n",
            "  logger.deprecation(\n"
          ]
        },
        {
          "output_type": "stream",
          "name": "stdout",
          "text": [
            "Moviepy - Building video /content/videos/rl-video-episode-0.mp4.\n",
            "Moviepy - Writing video /content/videos/rl-video-episode-0.mp4\n",
            "\n"
          ]
        },
        {
          "output_type": "stream",
          "name": "stderr",
          "text": []
        },
        {
          "output_type": "stream",
          "name": "stdout",
          "text": [
            "Moviepy - Done !\n",
            "Moviepy - video ready /content/videos/rl-video-episode-0.mp4\n",
            "Moviepy - Building video /content/videos/rl-video-episode-1.mp4.\n",
            "Moviepy - Writing video /content/videos/rl-video-episode-1.mp4\n",
            "\n"
          ]
        },
        {
          "output_type": "stream",
          "name": "stderr",
          "text": []
        },
        {
          "output_type": "stream",
          "name": "stdout",
          "text": [
            "Moviepy - Done !\n",
            "Moviepy - video ready /content/videos/rl-video-episode-1.mp4\n",
            "Moviepy - Building video /content/videos/rl-video-episode-8.mp4.\n",
            "Moviepy - Writing video /content/videos/rl-video-episode-8.mp4\n",
            "\n"
          ]
        },
        {
          "output_type": "stream",
          "name": "stderr",
          "text": []
        },
        {
          "output_type": "stream",
          "name": "stdout",
          "text": [
            "Moviepy - Done !\n",
            "Moviepy - video ready /content/videos/rl-video-episode-8.mp4\n",
            "Moviepy - Building video /content/videos/rl-video-episode-27.mp4.\n",
            "Moviepy - Writing video /content/videos/rl-video-episode-27.mp4\n",
            "\n"
          ]
        },
        {
          "output_type": "stream",
          "name": "stderr",
          "text": []
        },
        {
          "output_type": "stream",
          "name": "stdout",
          "text": [
            "Moviepy - Done !\n",
            "Moviepy - video ready /content/videos/rl-video-episode-27.mp4\n",
            "Moviepy - Building video /content/videos/rl-video-episode-64.mp4.\n",
            "Moviepy - Writing video /content/videos/rl-video-episode-64.mp4\n",
            "\n"
          ]
        },
        {
          "output_type": "stream",
          "name": "stderr",
          "text": []
        },
        {
          "output_type": "stream",
          "name": "stdout",
          "text": [
            "Moviepy - Done !\n",
            "Moviepy - video ready /content/videos/rl-video-episode-64.mp4\n"
          ]
        }
      ],
      "source": [
        "# Record sessions\n",
        "\n",
        "from gymnasium.wrappers import RecordVideo\n",
        "\n",
        "with gym.make(\"CartPole-v0\", render_mode=\"rgb_array\") as record_env, RecordVideo(\n",
        "    record_env, video_folder=\"videos\"\n",
        ") as env_monitor:\n",
        "    sessions = [\n",
        "        generate_session(env_monitor, epsilon=0, train=False) for _ in range(100)\n",
        "    ]\n"
      ]
    },
    {
      "cell_type": "code",
      "execution_count": 26,
      "metadata": {
        "id": "afqi2qomEmiC",
        "colab": {
          "base_uri": "https://localhost:8080/",
          "height": 501
        },
        "outputId": "b8d26d8e-879b-4edb-cd52-940b2c3754d5"
      },
      "outputs": [
        {
          "output_type": "execute_result",
          "data": {
            "text/plain": [
              "<IPython.core.display.HTML object>"
            ],
            "text/html": [
              "\n",
              "<video width=\"640\" height=\"480\" controls>\n",
              "  <source src=\"data:video/mp4;base64,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\" type=\"video/mp4\">\n",
              "</video>\n"
            ]
          },
          "metadata": {},
          "execution_count": 26
        }
      ],
      "source": [
        "# Show video. This may not work in some setups. If it doesn't\n",
        "# work for you, you can download the videos and view them locally.\n",
        "\n",
        "from pathlib import Path\n",
        "from base64 import b64encode\n",
        "from IPython.display import HTML\n",
        "\n",
        "video_paths = sorted([s for s in Path('videos').iterdir() if s.suffix == '.mp4'])\n",
        "video_path = video_paths[-1]  # You can also try other indices\n",
        "\n",
        "if 'google.colab' in sys.modules:\n",
        "    # https://stackoverflow.com/a/57378660/1214547\n",
        "    with video_path.open('rb') as fp:\n",
        "        mp4 = fp.read()\n",
        "    data_url = 'data:video/mp4;base64,' + b64encode(mp4).decode()\n",
        "else:\n",
        "    data_url = str(video_path)\n",
        "\n",
        "HTML(\"\"\"\n",
        "<video width=\"640\" height=\"480\" controls>\n",
        "  <source src=\"{}\" type=\"video/mp4\">\n",
        "</video>\n",
        "\"\"\".format(data_url))"
      ]
    }
  ],
  "metadata": {
    "colab": {
      "provenance": []
    },
    "kernelspec": {
      "display_name": "Python 3",
      "name": "python3"
    },
    "language_info": {
      "name": "python"
    }
  },
  "nbformat": 4,
  "nbformat_minor": 0
}